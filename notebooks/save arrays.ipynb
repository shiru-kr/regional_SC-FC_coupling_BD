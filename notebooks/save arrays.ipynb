{
 "cells": [
  {
   "cell_type": "code",
   "execution_count": 4,
   "id": "d76b0d8c-8e9a-46ef-8b1c-2a5cb2d95d5a",
   "metadata": {},
   "outputs": [],
   "source": [
    "import numpy as np\n",
    "import glob"
   ]
  },
  {
   "cell_type": "code",
   "execution_count": 21,
   "id": "fd413e71-3da1-4444-8c6f-1d0bcb4096f2",
   "metadata": {},
   "outputs": [],
   "source": [
    "bd_sc_files = sorted(glob.glob('/home/shir/Documents/connectomics/sch200_tian1/BD/sc/*.csv'))\n",
    "data_list = []\n",
    "# Load data from each CSV file and add it to the list\n",
    "for file in bd_sc_files:\n",
    "    data = np.loadtxt(file, delimiter=',')\n",
    "    data_list.append(data)\n",
    "\n",
    "# Concatenate the list of arrays along a new axis to create a 3D numpy array\n",
    "bd_sc_mats = np.stack(data_list, axis=-1)"
   ]
  },
  {
   "cell_type": "code",
   "execution_count": 22,
   "id": "f3ccf579-a9ed-44fb-8d63-d7bfd9b2cbeb",
   "metadata": {},
   "outputs": [],
   "source": [
    "bd_fbc_files = sorted(glob.glob('/home/shir/Documents/connectomics/sch200_tian1/BD/fbc/*.csv'))\n",
    "data_list = []\n",
    "# Load data from each CSV file and add it to the list\n",
    "for file in bd_fbc_files:\n",
    "    data = np.loadtxt(file, delimiter=',')\n",
    "    data_list.append(data)\n",
    "\n",
    "# Concatenate the list of arrays along a new axis to create a 3D numpy array\n",
    "bd_fbc_mats = np.stack(data_list, axis=-1)"
   ]
  },
  {
   "cell_type": "code",
   "execution_count": 23,
   "id": "7399b7c7-e037-4ac9-8a55-8e4d1b51cada",
   "metadata": {},
   "outputs": [],
   "source": [
    "bd_fa_files = sorted(glob.glob('/home/shir/Documents/connectomics/sch200_tian1/BD/fa/*.csv'))\n",
    "data_list = []\n",
    "# Load data from each CSV file and add it to the list\n",
    "for file in bd_fa_files:\n",
    "    data = np.loadtxt(file, delimiter=',')\n",
    "    data_list.append(data)\n",
    "\n",
    "# Concatenate the list of arrays along a new axis to create a 3D numpy array\n",
    "bd_fa_mats = np.stack(data_list, axis=-1)"
   ]
  },
  {
   "cell_type": "code",
   "execution_count": 24,
   "id": "e0db2bf6-5bdc-4cdd-9723-04943a98e010",
   "metadata": {},
   "outputs": [],
   "source": [
    "bd_sl_files = sorted(glob.glob('/home/shir/Documents/connectomics/sch200_tian1/BD/sl/*.csv'))\n",
    "data_list = []\n",
    "# Load data from each CSV file and add it to the list\n",
    "for file in bd_sl_files:\n",
    "    data = np.loadtxt(file, delimiter=',')\n",
    "    data_list.append(data)\n",
    "\n",
    "# Concatenate the list of arrays along a new axis to create a 3D numpy array\n",
    "bd_sl_mats = np.stack(data_list, axis=-1)"
   ]
  },
  {
   "cell_type": "code",
   "execution_count": 25,
   "id": "4fb1f61e-6e71-4c07-85a9-1680fd92f430",
   "metadata": {},
   "outputs": [],
   "source": [
    "bd_fc_files = sorted(glob.glob('/home/shir/Documents/connectomics/sch200_tian1/BD/func/*-cor.csv'))\n",
    "data_list = []\n",
    "# Load data from each CSV file and add it to the list\n",
    "for file in bd_fc_files:\n",
    "    data = np.loadtxt(file, delimiter=',')\n",
    "    data_list.append(data)\n",
    "\n",
    "# Concatenate the list of arrays along a new axis to create a 3D numpy array\n",
    "bd_fc_mats = np.stack(data_list, axis=-1)"
   ]
  },
  {
   "cell_type": "code",
   "execution_count": 26,
   "id": "9c24caf6-b15d-44ae-a9f9-f9e157eea633",
   "metadata": {},
   "outputs": [],
   "source": [
    "bd_pfc_files = sorted(glob.glob('/home/shir/Documents/connectomics/sch200_tian1/BD/func/*-pcor.csv'))\n",
    "data_list = []\n",
    "# Load data from each CSV file and add it to the list\n",
    "for file in bd_pfc_files:\n",
    "    data = np.loadtxt(file, delimiter=',')\n",
    "    data_list.append(data)\n",
    "\n",
    "# Concatenate the list of arrays along a new axis to create a 3D numpy array\n",
    "bd_pfc_mats = np.stack(data_list, axis=-1)"
   ]
  },
  {
   "cell_type": "code",
   "execution_count": 27,
   "id": "d46cd8a1-97cc-4b94-824b-2457f48ce54e",
   "metadata": {},
   "outputs": [],
   "source": [
    "hc_sc_files = sorted(glob.glob('/home/shir/Documents/connectomics/sch200_tian1/HC/sc/*.csv'))\n",
    "data_list = []\n",
    "# Load data from each CSV file and add it to the list\n",
    "for file in hc_sc_files:\n",
    "    data = np.loadtxt(file, delimiter=',')\n",
    "    data_list.append(data)\n",
    "\n",
    "# Concatenate the list of arrays along a new axis to create a 3D numpy array\n",
    "hc_sc_mats = np.stack(data_list, axis=-1)"
   ]
  },
  {
   "cell_type": "code",
   "execution_count": 5,
   "id": "ced9cc72-1d3e-479f-90ec-b48b57ffe715",
   "metadata": {},
   "outputs": [],
   "source": [
    "hc_fbc_files = sorted(glob.glob('/home/shir/Documents/connectomics/sch200_tian1 (copy)/HC/fbc/*.csv'))\n",
    "data_list = []\n",
    "# Load data from each CSV file and add it to the list\n",
    "for file in hc_fbc_files:\n",
    "    data = np.loadtxt(file, delimiter=',')\n",
    "    data_list.append(data)\n",
    "\n",
    "# Concatenate the list of arrays along a new axis to create a 3D numpy array\n",
    "hc_fbc_mats = np.stack(data_list, axis=-1)"
   ]
  },
  {
   "cell_type": "code",
   "execution_count": 36,
   "id": "f4a6da49-fd89-4588-8da4-496dd69853a0",
   "metadata": {},
   "outputs": [],
   "source": [
    "hc_fa_files = sorted(glob.glob('/home/shir/Documents/connectomics/sch200_tian1/HC/fa/*.csv'))\n",
    "data_list = []\n",
    "# Load data from each CSV file and add it to the list\n",
    "for file in hc_fa_files:\n",
    "    data = np.loadtxt(file, delimiter=',')\n",
    "    data_list.append(data)\n",
    "\n",
    "# Concatenate the list of arrays along a new axis to create a 3D numpy array\n",
    "hc_fa_mats = np.stack(data_list, axis=-1)"
   ]
  },
  {
   "cell_type": "code",
   "execution_count": 37,
   "id": "1fa0dd47-e7d8-4fd3-b3e4-eb2f8b8dea2b",
   "metadata": {},
   "outputs": [],
   "source": [
    "hc_sl_files = sorted(glob.glob('/home/shir/Documents/connectomics/sch200_tian1/HC/sl/*.csv'))\n",
    "data_list = []\n",
    "# Load data from each CSV file and add it to the list\n",
    "for file in hc_sl_files:\n",
    "    data = np.loadtxt(file, delimiter=',')\n",
    "    data_list.append(data)\n",
    "\n",
    "# Concatenate the list of arrays along a new axis to create a 3D numpy array\n",
    "hc_sl_mats = np.stack(data_list, axis=-1)"
   ]
  },
  {
   "cell_type": "code",
   "execution_count": 6,
   "id": "9390c378-7773-41ae-836c-e1fc70fbd541",
   "metadata": {},
   "outputs": [],
   "source": [
    "hc_fc_files = sorted(glob.glob('/home/shir/Documents/connectomics/sch200_tian1 (copy)/HC/func/*-cor.csv'))\n",
    "data_list = []\n",
    "# Load data from each CSV file and add it to the list\n",
    "for file in hc_fc_files:\n",
    "    data = np.loadtxt(file, delimiter=',')\n",
    "    data_list.append(data)\n",
    "\n",
    "# Concatenate the list of arrays along a new axis to create a 3D numpy array\n",
    "hc_fc_mats = np.stack(data_list, axis=-1)"
   ]
  },
  {
   "cell_type": "code",
   "execution_count": 8,
   "id": "6cdbaa22-849e-4f6e-a34b-53762ec6223f",
   "metadata": {},
   "outputs": [],
   "source": [
    "hc_pfc_files = sorted(glob.glob('/home/shir/Documents/connectomics/sch200_tian1 (copy)/HC/func/*-pcor.csv'))\n",
    "data_list = []\n",
    "# Load data from each CSV file and add it to the list\n",
    "for file in hc_pfc_files:\n",
    "    data = np.loadtxt(file, delimiter=',')\n",
    "    data_list.append(data)\n",
    "\n",
    "# Concatenate the list of arrays along a new axis to create a 3D numpy array\n",
    "hc_pfc_mats = np.stack(data_list, axis=-1)"
   ]
  },
  {
   "cell_type": "code",
   "execution_count": 11,
   "id": "1e71ca25-29e3-4d67-a448-326eb0f60dbd",
   "metadata": {},
   "outputs": [
    {
     "data": {
      "text/plain": [
       "array([[ 1.        ,  0.10127217,  0.00237348, ...,  0.02533813,\n",
       "         0.02783002,  0.02843922],\n",
       "       [ 0.10127217,  1.        ,  0.12537723, ..., -0.0215113 ,\n",
       "        -0.04559335, -0.0072075 ],\n",
       "       [ 0.00237348,  0.12537723,  1.        , ..., -0.04269359,\n",
       "        -0.01681994, -0.0123962 ],\n",
       "       ...,\n",
       "       [ 0.02533813, -0.0215113 , -0.04269359, ...,  1.        ,\n",
       "        -0.0364095 ,  0.04924952],\n",
       "       [ 0.02783002, -0.04559335, -0.01681994, ..., -0.0364095 ,\n",
       "         1.        , -0.02189837],\n",
       "       [ 0.02843922, -0.0072075 , -0.0123962 , ...,  0.04924952,\n",
       "        -0.02189837,  1.        ]])"
      ]
     },
     "execution_count": 11,
     "metadata": {},
     "output_type": "execute_result"
    }
   ],
   "source": [
    "hc_pfc_mats[:,:,0]"
   ]
  },
  {
   "cell_type": "code",
   "execution_count": 49,
   "id": "b2adafaa-ba0e-45a1-bfcb-39b30cf2c739",
   "metadata": {},
   "outputs": [],
   "source": [
    "hemiid = np.genfromtxt('/home/shir/Documents/connectomics/sch200_tian1/hemid.csv', delimiter=',')\n",
    "hemiid = hemiid.reshape(-1, 1)"
   ]
  },
  {
   "cell_type": "code",
   "execution_count": 51,
   "id": "55e88e66-f2f8-4dde-bcd9-5ab5955fb84f",
   "metadata": {},
   "outputs": [],
   "source": [
    "euc = np.genfromtxt('/home/shir/Documents/connectomics/sch200_tian1/euc.csv', delimiter=',')"
   ]
  },
  {
   "cell_type": "code",
   "execution_count": 12,
   "id": "7c47da9a-bcab-45e5-a7d1-7ef95618fae0",
   "metadata": {},
   "outputs": [],
   "source": [
    "np.save('/home/shir/Documents/connectomics/sch200_tian1 (copy)/npy/hc_fbc_mats.npy', hc_fbc_mats)\n",
    "np.save('/home/shir/Documents/connectomics/sch200_tian1 (copy)/npy/hc_fc_mats.npy', hc_fc_mats)\n",
    "np.save('/home/shir/Documents/connectomics/sch200_tian1 (copy)/npy/hc_pfc_mats.npy', hc_pfc_mats)"
   ]
  },
  {
   "cell_type": "code",
   "execution_count": 54,
   "id": "85b97e84-c969-48b2-8462-8c7d69243790",
   "metadata": {},
   "outputs": [],
   "source": [
    "np.save('/home/shir/Documents/connectomics/sch200_tian1/npy/hc_sc_mats.npy', hc_sc_mats)\n",
    "np.save('/home/shir/Documents/connectomics/sch200_tian1/npy/bd_sc_mats.npy', bd_sc_mats)\n",
    "np.save('/home/shir/Documents/connectomics/sch200_tian1/npy/bd_fbc_mats.npy', bd_fbc_mats)\n",
    "np.save('/home/shir/Documents/connectomics/sch200_tian1/npy/hc_fa_mats.npy', hc_fa_mats)\n",
    "np.save('/home/shir/Documents/connectomics/sch200_tian1/npy/bd_fa_mats.npy', bd_fa_mats)\n",
    "np.save('/home/shir/Documents/connectomics/sch200_tian1/npy/hc_sl_mats.npy', hc_sl_mats)\n",
    "np.save('/home/shir/Documents/connectomics/sch200_tian1/npy/bd_sl_mats.npy', bd_sl_mats)\n",
    "np.save('/home/shir/Documents/connectomics/sch200_tian1/npy/hc_fc_mats.npy', hc_fc_mats)\n",
    "np.save('/home/shir/Documents/connectomics/sch200_tian1/npy/bd_fc_mats.npy', bd_fc_mats)\n",
    "np.save('/home/shir/Documents/connectomics/sch200_tian1/npy/hc_pfc_mats.npy', hc_pfc_mats)\n",
    "np.save('/home/shir/Documents/connectomics/sch200_tian1/npy/bd_pfc_mats.npy', bd_pfc_mats)\n",
    "np.save('/home/shir/Documents/connectomics/sch200_tian1/npy/hemiid.npy', hemiid)\n",
    "np.save('/home/shir/Documents/connectomics/sch200_tian1/npy/euc.npy', euc)"
   ]
  },
  {
   "cell_type": "code",
   "execution_count": 60,
   "id": "2a4267fd-46f3-43e9-9921-27b036f387bc",
   "metadata": {},
   "outputs": [],
   "source": [
    "hm = np.load('/home/shir/Documents/connectomics/sch200_tian1/npy/bd_pfc_mats.npy')"
   ]
  },
  {
   "cell_type": "code",
   "execution_count": 61,
   "id": "b9039796-4231-4d9d-b1c3-3cdc3c10daf3",
   "metadata": {},
   "outputs": [
    {
     "data": {
      "text/plain": [
       "(216, 216, 163)"
      ]
     },
     "execution_count": 61,
     "metadata": {},
     "output_type": "execute_result"
    }
   ],
   "source": [
    "hm.shape"
   ]
  },
  {
   "cell_type": "code",
   "execution_count": 62,
   "id": "ab8d4274-efe8-49b5-a07b-749cbe47bd0f",
   "metadata": {},
   "outputs": [],
   "source": [
    "hc_sc = np.load('/home/shir/Documents/connectomics/sch200_tian1/npy/hc_sc_mats.npy') #load a 3D numpyarray with structural matrices (2D) for each control participant\n",
    "bd_sc = np.load('/home/shir/Documents/connectomics/sch200_tian1/npy/bd_sc_mats.npy') \n",
    "hc_fa = np.load('/home/shir/Documents/connectomics/sch200_tian1/npy/hc_fa_mats.npy') #load a 3D numpyarray with structural matrices (2D) for each control participant\n",
    "bd_fa = np.load('/home/shir/Documents/connectomics/sch200_tian1/npy/bd_fa_mats.npy') \n",
    "hc_sl = np.load('/home/shir/Documents/connectomics/sch200_tian1/npy/hc_sl_mats.npy') \n",
    "bd_sl = np.load('/home/shir/Documents/connectomics/sch200_tian1/npy/bd_sl_mats.npy') "
   ]
  },
  {
   "cell_type": "code",
   "execution_count": 63,
   "id": "2f958699-4de6-4827-bdc7-b2a28a30b1be",
   "metadata": {},
   "outputs": [
    {
     "name": "stderr",
     "output_type": "stream",
     "text": [
      "/tmp/ipykernel_40911/11792098.py:1: RuntimeWarning: invalid value encountered in divide\n",
      "  hc_s = hc_sc / hc_sl\n"
     ]
    }
   ],
   "source": [
    "hc_s = hc_sc / hc_sl\n",
    "hc_s = np.nan_to_num(hc_s, nan=0)\n",
    "hc_sfa = hc_s*hc_fa"
   ]
  },
  {
   "cell_type": "code",
   "execution_count": 64,
   "id": "7c668cfd-349e-4e77-abcd-ec66bf01f7f2",
   "metadata": {},
   "outputs": [
    {
     "name": "stderr",
     "output_type": "stream",
     "text": [
      "/tmp/ipykernel_40911/4109677787.py:1: RuntimeWarning: invalid value encountered in divide\n",
      "  bd_s = bd_sc / bd_sl\n"
     ]
    }
   ],
   "source": [
    "bd_s = bd_sc / bd_sl\n",
    "bd_s = np.nan_to_num(bd_s, nan=0)\n",
    "bd_sfa = bd_s*bd_fa"
   ]
  },
  {
   "cell_type": "code",
   "execution_count": 65,
   "id": "bd90ac49-05c7-4843-9003-4ec817ab905b",
   "metadata": {},
   "outputs": [],
   "source": [
    "np.save('/home/shir/Documents/connectomics/sch200_tian1/npy/hc_sfa_mats.npy', hc_sfa)\n",
    "np.save('/home/shir/Documents/connectomics/sch200_tian1/npy/bd_sfa_mats.npy', bd_sfa)"
   ]
  },
  {
   "cell_type": "code",
   "execution_count": 68,
   "id": "c1e531f1-d998-48e5-87ed-289dfa08a08c",
   "metadata": {},
   "outputs": [
    {
     "data": {
      "text/plain": [
       "(216, 216, 163)"
      ]
     },
     "execution_count": 68,
     "metadata": {},
     "output_type": "execute_result"
    }
   ],
   "source": [
    "hc_sfa.shape"
   ]
  },
  {
   "cell_type": "code",
   "execution_count": null,
   "id": "e7808ed3-da2c-4981-80ae-06aeffedcb6b",
   "metadata": {},
   "outputs": [],
   "source": []
  }
 ],
 "metadata": {
  "kernelspec": {
   "display_name": "Python 3 (ipykernel)",
   "language": "python",
   "name": "python3"
  },
  "language_info": {
   "codemirror_mode": {
    "name": "ipython",
    "version": 3
   },
   "file_extension": ".py",
   "mimetype": "text/x-python",
   "name": "python",
   "nbconvert_exporter": "python",
   "pygments_lexer": "ipython3",
   "version": "3.9.18"
  }
 },
 "nbformat": 4,
 "nbformat_minor": 5
}
