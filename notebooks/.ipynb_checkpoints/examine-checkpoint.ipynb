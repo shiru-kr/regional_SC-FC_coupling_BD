{
 "cells": [
  {
   "cell_type": "code",
   "execution_count": 23,
   "id": "c3e63d30-f52f-43d8-9dad-dcb82e0b61b5",
   "metadata": {},
   "outputs": [],
   "source": [
    "import numpy as np\n",
    "import pandas as pd \n",
    "from scipy.linalg import expm\n",
    "from sklearn.linear_model import LinearRegression\n",
    "from sklearn.preprocessing import StandardScaler\n",
    "from netneurotools.metrics import distance_wei_floyd"
   ]
  },
  {
   "cell_type": "code",
   "execution_count": 24,
   "id": "6f2bbbbf-741f-4c45-8015-6cae6e9a4cb9",
   "metadata": {},
   "outputs": [],
   "source": [
    "sc_mats = np.load('/home/shir/Documents/connectomics/coupling/216/data/hc_fbc_mats.npy') #load a 3D numpyarray with structural matrices (2D) for each control participant\n",
    "fc_mats = np.load('/home/shir/Documents/connectomics/coupling/216/data/hc_fc_mats.npy')\n",
    "struc = sc_mats[:,:,100]\n",
    "func = fc_mats[:,:,100]\n",
    "leb = pd.read_csv('/home/shir/Documents/connectomics/coupling/216/atlas_labels.csv',header=None)"
   ]
  },
  {
   "cell_type": "code",
   "execution_count": 25,
   "id": "7dd2b237-28aa-499c-8893-906538a830e7",
   "metadata": {},
   "outputs": [],
   "source": [
    "def short_path(mat):\n",
    "    \"\"\"\n",
    "    This function takes an adjacency matrix and returns a shortest path length matrix between each pair of nodes.\n",
    "    :param mat: a matrix of the connection strength between each pair of nodes\n",
    "    :return: shortest path matrix\n",
    "    \"\"\"\n",
    "    # Create a copy of the matrix to avoid modifying the original\n",
    "    mati = np.array(mat, copy=True)\n",
    "    # Replace zero entries with np.inf\n",
    "    mati[mati == 0] = 1e-10\n",
    "    # Compute the inverse of the matrix for weights (path length in terms of cost)\n",
    "    rec_mat = 1 / mati\n",
    "    np.fill_diagonal(rec_mat, 0)\n",
    "    # Compute shortest paths using Floyd-Warshall algorithm\n",
    "    short, pre = distance_wei_floyd(rec_mat)\n",
    "    return short   \n",
    "    \n",
    "def communicability(adjmat, normalize=True):\n",
    "    \"\"\"\n",
    "    This function will take an adjacency matrix and return a communicability matrix\n",
    "    the communicability matrix is the weighted  sum  of  all  paths  and  walks  between all pairs of nodes\n",
    "    :param adjmat: a matrix of the connection strength between each pair of nodes\n",
    "    :param normalize: default to normalize values\n",
    "    :return: communicability matrix\n",
    "    \"\"\"\n",
    "    adjmati = np.array(adjmat, dtype=float) \n",
    "    if normalize:\n",
    "        norm = np.linalg.eigvals(adjmati).max()\n",
    "        adjmati = adjmati / norm\n",
    "\n",
    "    return expm(adjmati)"
   ]
  },
  {
   "cell_type": "code",
   "execution_count": 26,
   "id": "902580db-f3ab-4df4-84bb-80fc6152e9d4",
   "metadata": {},
   "outputs": [],
   "source": [
    "shorti=short_path(struc)\n",
    "commi=communicability(struc)"
   ]
  },
  {
   "cell_type": "code",
   "execution_count": 27,
   "id": "a0ed8226-f78e-4208-83ee-27bf44715e27",
   "metadata": {},
   "outputs": [],
   "source": [
    "def get_predictor_vectors(mats, node, scope):\n",
    "    \"\"\"this function takes a list of matrices and a number and return for each matrix a 1D coulmn with the values for that number index.\n",
    "    depands of the scope, the vector will contain whole brain connections (to all regions), within network connections (to regions in the same network),\n",
    "    between network connections (to all regions that are not in the same network), or cortical connections (only to cortical regions). \n",
    "    Important! labels here match the schafer and tian stlases, adjust if needed.\n",
    "    #there's probably a cleaner way to do this#\n",
    "    :param mats: list of structural matrices (same shape)\n",
    "    :param node: number to use as index\n",
    "    :param scope: 'between', 'within', 'whole', 'cortical'\n",
    "    :return: a vector for the node number (excluding self connection)\n",
    "    \"\"\"\n",
    "    selected = leb.iloc[node,0] #get the label of the region (the node)\n",
    "    nets = [\"Vis\", \"SomMot\", \"DorsAttn\", \"SalVentAttn\", \"Limbic\", \"Cont\", \"Default\", \"-\"] #for subcortex I am using \"-\" as it's not in the schaefer labels and only apears in all the Tian\n",
    "    if scope == 'between':\n",
    "        net_indices = [node] #node number as list to be used index and later add to it more indices\n",
    "    else:\n",
    "        net_indices = []\n",
    "    \n",
    "    for net in nets: #loop over the labels of the networks\n",
    "        if net in selected: \n",
    "            for i in range(len(leb)): \n",
    "                check = leb.iloc[i,0] ###if the network in the loop matched the label of the node, loop over the number of regions, and \n",
    "                #pull the region label one by one\n",
    "                if net in check and i != node: \n",
    "                    net_indices.append(i) ##if that network is also in the label of the region being checked, \n",
    "                    #and it's not the same region (self connection), add that region (its index) to the list of indices to be used for analysis scope\n",
    "    net_indices = np.unique(net_indices) #avoid duplicates\n",
    "    print(net_indices)\n",
    "    result = [] #store the vectors\n",
    "    for mat in mats: #loop over the matrices\n",
    "        column_vector = mat[:, node] #extract the column of the region by node number as index\n",
    "        if scope == \"between\":\n",
    "            column_vector = np.delete(column_vector, net_indices) #if between network, remove from the vector the indices of regions in the same network\n",
    "            result.append(column_vector) #add the list of vectors (for all mats)\n",
    "        elif scope == \"within\":\n",
    "            column_vector = column_vector[net_indices] #if within network, keep only indices of regions within that network\n",
    "            result.append(column_vector)\n",
    "        elif scope == \"whole\":\n",
    "            column_vector = np.delete(column_vector, node) #if whole brain, use all regions, delete self connection\n",
    "            result.append(column_vector)\n",
    "        elif scope == \"cortical\":\n",
    "            column_vector = column_vector[:200] #if cortical, use indices until 200 as these are the Schaefer one\n",
    "            if node < 200:\n",
    "                column_vector = np.delete(column_vector, node) #delete self connections if the node is in cortical range (discard later anyway if it's over 200)\n",
    "            result.append(column_vector)\n",
    "        else:\n",
    "            print(\"scope does not match\") \n",
    "    return result"
   ]
  },
  {
   "cell_type": "code",
   "execution_count": 33,
   "id": "0dd92999-ec85-4e51-839e-0cc09e604644",
   "metadata": {},
   "outputs": [
    {
     "name": "stdout",
     "output_type": "stream",
     "text": [
      "[  0   1   2   3   4   6   7   8   9  10  11  12  13 100 101 102 103 104\n",
      " 105 106 107 108 109 110 111 112 113 114]\n"
     ]
    }
   ],
   "source": [
    "ss = get_predictor_vectors([struc, shorti, commi], 5, 'whole')"
   ]
  },
  {
   "cell_type": "code",
   "execution_count": 34,
   "id": "3cf68a99-f3c1-4c71-b536-c2a23b777d6f",
   "metadata": {},
   "outputs": [],
   "source": [
    "def get_predicted_vector(mat, node, scope):\n",
    "    \"\"\"this function takes a matrix and a number and return a 1D coulmn with the values for that number index\n",
    "    :param mat: a functional matrix\n",
    "    :param node: number to use as index\n",
    "    :param scope: 'between', 'within', 'whole', 'cortical'\n",
    "    :return: a vector for the node number (excluding self connection)\n",
    "    \"\"\"\n",
    "    selected = leb.iloc[node,0]\n",
    "    nets = [\"Vis\", \"SomMot\", \"DorsAttn\", \"SalVentAttn\", \"Limbic\", \"Cont\", \"Default\", \"-\"] #for subcortex I am using \"-\" as it's not in the schaefer labels and only apears in all the Tian\n",
    "    \n",
    "    if scope == 'between':\n",
    "        net_indices = [node] #node number as list to be used index and later add to it more indices, if between, add seld connection to be removed\n",
    "    else:\n",
    "        net_indices = []    \n",
    "\n",
    "    for net in nets:\n",
    "        if net in selected:\n",
    "            for i in range(len(leb)):\n",
    "                check = leb.iloc[i,0]\n",
    "                if net in check and i != node:\n",
    "                    net_indices.append(i)\n",
    "    net_indices = np.unique(net_indices)\n",
    "    \n",
    "    column_vector = mat[:, node]\n",
    "    if scope == \"between\":\n",
    "        column_vector = np.delete(column_vector, net_indices)\n",
    "    elif scope == \"within\":\n",
    "        column_vector = column_vector[net_indices]\n",
    "    elif scope == \"whole\":\n",
    "        column_vector = np.delete(column_vector, node)\n",
    "    elif scope == \"cortical\":\n",
    "        column_vector = column_vector[:200]\n",
    "        if node < 200:\n",
    "            column_vector = np.delete(column_vector, node)\n",
    "    else:\n",
    "        print(\"scope does not match\") \n",
    "    return column_vector\n",
    "\n"
   ]
  },
  {
   "cell_type": "code",
   "execution_count": 35,
   "id": "effa5620-a9d4-497a-829f-48a336d427ff",
   "metadata": {},
   "outputs": [],
   "source": [
    "ff=get_predicted_vector(func,5,'whole')"
   ]
  },
  {
   "cell_type": "code",
   "execution_count": 42,
   "id": "bf890baf-9af9-4fb3-8a30-aadf56414443",
   "metadata": {},
   "outputs": [],
   "source": [
    "def predict_function(predictors, functional):\n",
    "    \"\"\"this function takes a list of structural connectivity vectors and a functional connectivity vector and performs a linrear regression to prdict functional from strctural.\n",
    "    it returns the squered R between the real functional vector and the predicted functional vector.\n",
    "    :param predictors: list of structural connectivity vectors\n",
    "    :param functiobal: functional connectivity vector\n",
    "    :return: a predicted functional matrix\"\"\"\n",
    "\n",
    "    model = LinearRegression() \n",
    "    predictors_arr = np.transpose(np.array(predictors)) #dimentions to fit\n",
    "    print(predictors_arr.shape)\n",
    "    scaler = StandardScaler()\n",
    "    predictors_scaled = scaler.fit_transform(predictors_arr) #standarise the predictors\n",
    "    model.fit(predictors_scaled, functional) #use linear regression model to predict functional from structural\n",
    "    r_squared = model.score(predictors_scaled, functional) #get the R2 between observed and predicted   \n",
    "    N = len(functional)\n",
    "    print('N',N)\n",
    "    p = predictors_scaled.shape[1]\n",
    "    print('p',p)\n",
    "    adjusted_r_squared = 1 - ((1 - r_squared) * (N - 1) / (N - p - 1)) #compute the adjusted R2\n",
    "    return adjusted_r_squared"
   ]
  },
  {
   "cell_type": "code",
   "execution_count": 43,
   "id": "7436806d-1133-4e22-a71b-bf0430972303",
   "metadata": {},
   "outputs": [
    {
     "name": "stdout",
     "output_type": "stream",
     "text": [
      "(215, 3)\n",
      "N 215\n",
      "p 3\n"
     ]
    },
    {
     "data": {
      "text/plain": [
       "0.1862753908111704"
      ]
     },
     "execution_count": 43,
     "metadata": {},
     "output_type": "execute_result"
    }
   ],
   "source": [
    "predict_function(ss, ff)"
   ]
  },
  {
   "cell_type": "code",
   "execution_count": null,
   "id": "d1cdb80c-3174-401f-a85f-8c03df19c40e",
   "metadata": {},
   "outputs": [],
   "source": []
  }
 ],
 "metadata": {
  "kernelspec": {
   "display_name": "Python 3 (ipykernel)",
   "language": "python",
   "name": "python3"
  },
  "language_info": {
   "codemirror_mode": {
    "name": "ipython",
    "version": 3
   },
   "file_extension": ".py",
   "mimetype": "text/x-python",
   "name": "python",
   "nbconvert_exporter": "python",
   "pygments_lexer": "ipython3",
   "version": "3.9.18"
  }
 },
 "nbformat": 4,
 "nbformat_minor": 5
}
